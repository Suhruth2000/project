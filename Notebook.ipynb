{
 "cells": [
  {
   "cell_type": "code",
   "execution_count": 1,
   "id": "7691b60c",
   "metadata": {},
   "outputs": [
    {
     "name": "stdout",
     "output_type": "stream",
     "text": [
      "Collecting psycopg2.binary\n",
      "  Downloading psycopg2_binary-2.9.2-cp39-cp39-manylinux_2_17_x86_64.manylinux2014_x86_64.whl (3.0 MB)\n",
      "\u001b[K     |████████████████████████████████| 3.0 MB 4.8 MB/s eta 0:00:01\n",
      "\u001b[?25hInstalling collected packages: psycopg2.binary\n",
      "Successfully installed psycopg2.binary-2.9.2\n",
      "Note: you may need to restart the kernel to use updated packages.\n"
     ]
    }
   ],
   "source": [
    "pip install psycopg2.binary"
   ]
  },
  {
   "cell_type": "code",
   "execution_count": 2,
   "id": "758bdcda",
   "metadata": {},
   "outputs": [],
   "source": [
    "import psycopg2  \n",
    "import pprint  "
   ]
  },
  {
   "cell_type": "code",
   "execution_count": 7,
   "id": "c950d54b",
   "metadata": {},
   "outputs": [],
   "source": [
    "conn = psycopg2.connect(\"host=172.17.0.4 dbname=titanic user=postgres password=mysecretpassword\")  "
   ]
  },
  {
   "cell_type": "code",
   "execution_count": 8,
   "id": "9c42ef1c",
   "metadata": {},
   "outputs": [],
   "source": [
    "cursor = conn.cursor()  \n",
    "cursor.execute('SELECT avg(age), pclass FROM passengers WHERE survived = 1 GROUP BY pclass')  \n",
    "rows = cursor.fetchall()  \n",
    "conn.close() "
   ]
  },
  {
   "cell_type": "code",
   "execution_count": 9,
   "id": "8003ff6c",
   "metadata": {},
   "outputs": [
    {
     "name": "stdout",
     "output_type": "stream",
     "text": [
      "[(35.96264705882353, 1), (21.41109243697479, 3), (26.17045977011494, 2)]\n"
     ]
    }
   ],
   "source": [
    "pprint.pprint(rows)  "
   ]
  },
  {
   "cell_type": "code",
   "execution_count": 10,
   "id": "2d535058",
   "metadata": {},
   "outputs": [
    {
     "name": "stdout",
     "output_type": "stream",
     "text": [
      "avg age: 35.96264705882353 class: 1\n",
      "avg age: 21.41109243697479 class: 3\n",
      "avg age: 26.17045977011494 class: 2\n"
     ]
    }
   ],
   "source": [
    "for row in rows:  \n",
    "    print(\"avg age:\", row[0], \"class:\", row[1])"
   ]
  },
  {
   "cell_type": "code",
   "execution_count": null,
   "id": "85cf52f6",
   "metadata": {},
   "outputs": [],
   "source": []
  }
 ],
 "metadata": {
  "kernelspec": {
   "display_name": "Python 3",
   "language": "python",
   "name": "python3"
  },
  "language_info": {
   "codemirror_mode": {
    "name": "ipython",
    "version": 3
   },
   "file_extension": ".py",
   "mimetype": "text/x-python",
   "name": "python",
   "nbconvert_exporter": "python",
   "pygments_lexer": "ipython3",
   "version": "3.9.2"
  }
 },
 "nbformat": 4,
 "nbformat_minor": 5
}
